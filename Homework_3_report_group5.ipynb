{
 "cells": [
  {
   "cell_type": "markdown",
   "metadata": {},
   "source": [
    "<center>\n",
    "\n",
    "<p style=\"font-size:30px;\"><strong> Computational Photonics </p>\n",
    "\n",
    "<p style=\"font-size:30px;\"><strong> Homework 3: Implementation of the Finite-Difference Time-Domain Method (FDTD) Method </p>\n",
    "\n",
    "</center>\n",
    "\n",
    "<center>\n",
    "\n",
    "**Author:**\n",
    "*Group 5*\n",
    "| Name             | Email       |\n",
    "| -----------      | ----------- |\n",
    "| *Lena Fleischmann*   |  *l.fleischmann@uni-jena.de*           |\n",
    "| *Nayana Jalimarad Shankarappa*|  *@uni-jena.de*   |\n",
    "| *Felix Kreter*|  *felix.kreter@uni-jena.de*   |\n",
    "| *Yucheng Sun*     |  *yucheng.sun@uni-jena.de*        |\n",
    "\n",
    "</center>"
   ]
  },
  {
   "cell_type": "markdown",
   "metadata": {},
   "source": [
    ">**Supervisor:**\n",
    ">\n",
    ">*Prof. Thomas Pertsch* \n",
    ">\n",
    ">**Tutor:**\n",
    ">\n",
    ">*Tobias Bucher*\n",
    ">\n",
    ">*Jan Sperrhake*\n"
   ]
  },
  {
   "cell_type": "code",
   "execution_count": 1,
   "metadata": {},
   "outputs": [],
   "source": [
    "import numpy as np\n",
    "import time\n",
    "from function_headers_fdtd import Fdtd1DAnimation, Fdtd3DAnimation\n",
    "from matplotlib import pyplot as plt\n",
    "\n",
    "# dark bluered colormap, registers automatically with matplotlib on import\n",
    "import bluered_dark\n",
    "\n",
    "\n",
    "plt.rcParams.update({\n",
    "        'figure.figsize': (12/2.54, 9/2.54),\n",
    "        'figure.subplot.bottom': 0.15,\n",
    "        'figure.subplot.left': 0.165,\n",
    "        'figure.subplot.right': 0.90,\n",
    "        'figure.subplot.top': 0.9,\n",
    "        'axes.grid': False,\n",
    "        'image.cmap': 'bluered_dark',\n",
    "})\n",
    "\n",
    "plt.close('all')\n",
    "\n",
    "%config InlineBackend.figure_format = 'svg'\n",
    "%matplotlib inline"
   ]
  },
  {
   "cell_type": "markdown",
   "metadata": {},
   "source": [
    "**Table of contents**<a id='toc0_'></a>    \n",
    "- 1. [Introduction](#toc1_)    \n",
    "- 2. [Finite-Difference Time-Domain (FDTD) Method](#toc2_)    \n",
    "  - 2.1. [Maxwell's equations](#toc2_1_)    \n",
    "  - 2.2. [Yee grids and indices](#toc2_2_)    \n",
    "  - 2.3. [Implementation of sources](#toc2_3_)    \n",
    "  - 2.4. [Perfectly conducting material boundary](#toc2_4_)    \n",
    "- 3. [Analysis and Simulation of the Problems](#toc3_)    \n",
    "  - 3.1. [Task 1 - 1D FDTD](#toc3_1_)    \n",
    "    - 3.1.1. [Implementation](#toc3_1_1_)    \n",
    "    - 3.1.2. [Convergence test](#toc3_1_2_)    \n",
    "    - 3.1.3. [Example](#toc3_1_3_)    \n",
    "  - 3.2. [Task 2 - 3D FDTD](#toc3_2_)    \n",
    "    - 3.2.1. [Implementation](#toc3_2_1_)    \n",
    "    - 3.2.2. [Convergence test](#toc3_2_2_)    \n",
    "    - 3.2.3. [Example](#toc3_2_3_)    \n",
    "- 4. [Conclusion](#toc4_)    \n",
    "- 5. [References](#toc5_)    \n",
    "\n",
    "<!-- vscode-jupyter-toc-config\n",
    "\tnumbering=true\n",
    "\tanchor=true\n",
    "\tflat=false\n",
    "\tminLevel=2\n",
    "\tmaxLevel=6\n",
    "\t/vscode-jupyter-toc-config -->\n",
    "<!-- THIS CELL WILL BE REPLACED ON TOC UPDATE. DO NOT WRITE YOUR TEXT IN THIS CELL -->"
   ]
  },
  {
   "cell_type": "markdown",
   "metadata": {},
   "source": [
    "## 1. <a id='toc1_'></a>[Introduction](#toc0_)"
   ]
  },
  {
   "cell_type": "markdown",
   "metadata": {},
   "source": [
    "In this project, we employ the finite-difference time-domain (FDTD) method to simulate the propagation of an ultrashort pulse in a dispersion-free dielectric medium in both 1D and 3D cases. And we use *Python* to implement this method. In addition, both the physical properties and the numerical properties (i.e. the convergence test of the discretization in geometry discretization and also in time) of the simulation will be discussed. Specifically, the phenomenon when the pulse hits the interface between two different dielectric media will also be investigated."
   ]
  },
  {
   "cell_type": "markdown",
   "metadata": {},
   "source": [
    "## 2. <a id='toc2_'></a>[Finite-Difference Time-Domain (FDTD) Method](#toc0_)"
   ]
  },
  {
   "cell_type": "markdown",
   "metadata": {},
   "source": [
    "### 2.1. <a id='toc2_1_'></a>[Maxwell's equations](#toc0_)"
   ]
  },
  {
   "cell_type": "markdown",
   "metadata": {},
   "source": [
    "\\begin{align}\n",
    "\\frac{\\partial \\textbf{H}(\\textbf{r}, t)}{\\partial t} &= - \\frac{1}{\\mu_0} \\nabla \\times \\textbf{E}(\\textbf{r}, t) \\tag{}\\\\\n",
    "&\\downarrow \\notag \\\\\n",
    "\\frac{\\partial H_x}{\\partial t} &= \\frac{1}{\\mu_0}\\Big[ \\frac{\\partial E_y}{\\partial z} - \\frac{\\partial E_z}{\\partial y} \\Big], \\tag{}\\\\\n",
    "\\frac{\\partial H_y}{\\partial t} &= \\frac{1}{\\mu_0}\\Big[ \\frac{\\partial E_z}{\\partial x} - \\frac{\\partial E_x}{\\partial z} \\Big], \\tag{}\\\\\n",
    "\\frac{\\partial H_z}{\\partial t} &= \\frac{1}{\\mu_0}\\Big[ \\frac{\\partial E_x}{\\partial y} - \\frac{\\partial E_y}{\\partial x} \\Big] \\tag{}\n",
    "\\end{align}\n",
    "\n",
    "\\begin{align}\n",
    "\\frac{\\partial \\textbf{E}(\\textbf{r}, t)}{\\partial t} &= \\frac{1}{\\epsilon_0\\epsilon(\\textbf{r})} \\Big[ \\nabla \\times \\textbf{E}(\\textbf{r}, t) - \\textbf{j}(\\textbf{r}, t) \\Big] \\tag{}\\\\\n",
    "&\\downarrow \\notag \\\\\n",
    "\\frac{\\partial E_x}{\\partial t} &= \\frac{1}{\\epsilon_0\\epsilon(\\textbf{r})}\\Big[ \\frac{\\partial H_z}{\\partial y} - \\frac{\\partial H_y}{\\partial z} - j_x \\Big], \\tag{}\\\\\n",
    "\\frac{\\partial E_y}{\\partial t} &= \\frac{1}{\\epsilon_0\\epsilon(\\textbf{r})}\\Big[ \\frac{\\partial H_x}{\\partial z} - \\frac{\\partial H_z}{\\partial x} - j_y \\Big], \\tag{}\\\\\n",
    "\\frac{\\partial E_z}{\\partial t} &= \\frac{1}{\\epsilon_0\\epsilon(\\textbf{r})}\\Big[ \\frac{\\partial H_y}{\\partial x} - \\frac{\\partial H_x}{\\partial y} -j_z \\Big] \\tag{}\n",
    "\\end{align}"
   ]
  },
  {
   "cell_type": "markdown",
   "metadata": {},
   "source": [
    "### 2.2. <a id='toc2_2_'></a>[Yee grids and indices](#toc0_)"
   ]
  },
  {
   "cell_type": "markdown",
   "metadata": {},
   "source": []
  },
  {
   "cell_type": "markdown",
   "metadata": {},
   "source": [
    "### 2.3. <a id='toc2_3_'></a>[Implementation of sources](#toc0_)"
   ]
  },
  {
   "cell_type": "markdown",
   "metadata": {},
   "source": []
  },
  {
   "cell_type": "markdown",
   "metadata": {},
   "source": [
    "### 2.4. <a id='toc2_4_'></a>[Perfect electric conductor boundary](#toc0_)"
   ]
  },
  {
   "cell_type": "markdown",
   "metadata": {},
   "source": []
  },
  {
   "cell_type": "markdown",
   "metadata": {},
   "source": [
    "## 3. <a id='toc3_'></a>[Analysis and Simulation of the Problems](#toc0_)"
   ]
  },
  {
   "cell_type": "markdown",
   "metadata": {},
   "source": []
  },
  {
   "cell_type": "markdown",
   "metadata": {},
   "source": [
    "### 3.1. <a id='toc3_1_'></a>[Task 1 - 1D FDTD](#toc0_)"
   ]
  },
  {
   "cell_type": "markdown",
   "metadata": {},
   "source": [
    "- Basic parameters - 1D"
   ]
  },
  {
   "cell_type": "code",
   "execution_count": null,
   "metadata": {},
   "outputs": [],
   "source": [
    "# constants\n",
    "c = 2.99792458e8 # speed of light [m/s]\n",
    "mu0 = 4*np.pi*1e-7 # vacuum permeability [Vs/(Am)]\n",
    "eps0 = 1/(mu0*c**2) # vacuum permittivity [As/(Vm)]\n",
    "Z0 = np.sqrt(mu0/eps0) # vacuum impedance [Ohm]\n",
    "\n",
    "# geometry parameters\n",
    "x_span = 18e-6 # width of computatinal domain [m]\n",
    "n1 = 1 # refractive index in front of interface\n",
    "n2 = 2 # refractive index behind interface\n",
    "x_interface = x_span/4 #postion of dielectric interface\n",
    "\n",
    "# source parameters\n",
    "source_frequency = 500e12 # [Hz]\n",
    "source_position = 0 # [m]\n",
    "source_pulse_length = 1e-15 # [s]"
   ]
  },
  {
   "cell_type": "markdown",
   "metadata": {},
   "source": [
    "#### 3.1.1. <a id='toc3_1_1_'></a>[Implementation](#toc0_)"
   ]
  },
  {
   "cell_type": "code",
   "execution_count": null,
   "metadata": {},
   "outputs": [],
   "source": [
    "def fdtd_1d(eps_rel, dx, time_span, source_frequency, source_position, source_pulse_length):\n",
    "    '''Computes the temporal evolution of a pulsed excitation using the\n",
    "    1D FDTD method. The temporal center of the pulse is placed at a\n",
    "    simulation time of 3*source_pulse_length. The origin x=0 is in the\n",
    "    center of the computational domain. All quantities have to be\n",
    "    specified in SI units.\n",
    "\n",
    "    Arguments\n",
    "    ---------\n",
    "        eps_rel : 1d-array\n",
    "            Rel. permittivity distribution within the computational domain.\n",
    "        dx : float\n",
    "            Spacing of the simulation grid (please ensure dx <= lambda/20).\n",
    "        time_span : float\n",
    "            Time span of simulation.\n",
    "        source_frequency : float\n",
    "            Frequency of current source.\n",
    "        source_position : float\n",
    "            Spatial position of current source.\n",
    "        source_pulse_length :\n",
    "            Temporal width of Gaussian envelope of the source.\n",
    "\n",
    "    Returns\n",
    "    -------\n",
    "        Ez : 2d-array\n",
    "            Z-component of E(x,t) (each row corresponds to one time step)\n",
    "        Hy : 2d-array\n",
    "            Y-component of H(x,t) (each row corresponds to one time step)\n",
    "        x  : 1d-array\n",
    "            Spatial coordinates of the field output\n",
    "        t  : 1d-array\n",
    "            Time of the field output\n",
    "    '''\n",
    "    \n",
    "    # basic parameters\n",
    "    c = 2.99792458e8 # speed of light [m/s]\n",
    "    mu0 = 4*np.pi*1e-7 # vacuum permeability [Vs/(Am)]\n",
    "    eps0 = 1/(mu0*c**2) # vacuum permittivity [As/(Vm)]\n",
    "    Z0 = np.sqrt(mu0/eps0) # vacuum impedance [Ohm]\n",
    "\n",
    "    # time step\n",
    "    dt = dx / (2 * c)\n",
    "    Nt = int(round(time_span / dt)) + 1\n",
    "    t = np.linspace(0, time_span, Nt)\n",
    "\n",
    "    # construction of matrices\n",
    "    Ez = np.zeros((Nt, len(eps_rel)))\n",
    "    Hy = np.zeros((Nt, len(eps_rel)))\n",
    "    jz = np.zeros((Nt, len(eps_rel) - 1))\n",
    "\n",
    "    # spatial coordinates of the fields\n",
    "    x = np.linspace(-(len(eps_rel) - 1)/2*dx, (len(eps_rel) - 1)/2*dx, len(eps_rel))\n",
    "\n",
    "    # source matrix\n",
    "    for n in range(Nt):\n",
    "        jz[n, source_position] = np.exp(-(((n + 0.5)*dt - 3*source_pulse_length)/source_pulse_length)**2) * np.cos(2*np.pi*source_frequency * (n + 0.5)*dt)\n",
    "    \n",
    "    # main loop\n",
    "    for n in range(1, Nt):\n",
    "        for i in range(1, len(eps_rel) - 1):\n",
    "            Ez[n, i] = Ez[n-1, i] + (Hy[n-1, i] - Hy[n-1, i-1]) * 1 / ( eps0 * eps_rel[i] ) * dt / dx - jz[n-1, i] * dt / ( eps0 * eps_rel[i] )\n",
    "        for i in range(len(eps_rel) - 1):\n",
    "            Hy[n, i] = Hy[n-1, i] + (Ez[n, i+1] - Ez[n, i]) * 1 / mu0 * dt / dx\n",
    "\n",
    "    # postprocessing - interpolation of output\n",
    "    for n in range(1, len(Ez)):\n",
    "        Hy[n, 0] = 0.5 * (Hy[n, 0] + Hy[n-1, 0])\n",
    "        Hy[n, -1] = 0.5 * (Hy[n, -2] + Hy[n-1, -2])\n",
    "        for i in range(1, len(eps_rel)-1):\n",
    "            Hy[n, i] = 0.25 * (Hy[n, i] + Hy[n, i-1] + Hy[n-1, i] + Hy[n-1, i-1])\n",
    "\n",
    "    return Ez, Hy, x, t\n"
   ]
  },
  {
   "cell_type": "markdown",
   "metadata": {},
   "source": [
    "#### 3.1.2. <a id='toc3_1_2_'></a>[Convergence test](#toc0_)"
   ]
  },
  {
   "cell_type": "markdown",
   "metadata": {},
   "source": [
    "**1. Convergence test for dx**"
   ]
  },
  {
   "cell_type": "code",
   "execution_count": null,
   "metadata": {},
   "outputs": [],
   "source": []
  },
  {
   "cell_type": "markdown",
   "metadata": {},
   "source": [
    "**2. Convergence test for dt**"
   ]
  },
  {
   "cell_type": "code",
   "execution_count": null,
   "metadata": {},
   "outputs": [],
   "source": []
  },
  {
   "cell_type": "markdown",
   "metadata": {},
   "source": [
    "#### 3.1.3. <a id='toc3_1_3_'></a>[Example](#toc0_)"
   ]
  },
  {
   "cell_type": "code",
   "execution_count": null,
   "metadata": {},
   "outputs": [],
   "source": [
    "# simulation parameters\n",
    "dx = 15e-9 # grid spacing [m]\n",
    "time_span = 60e-15 # duration of simulation [s]\n",
    "\n",
    "Nx = int(round(x_span/dx)) + 1 # number of grid points\n",
    "\n",
    "# %% create permittivity distribution and run simulation %%%%%%%%%%%%%%%%%%%%%%\n",
    "\n",
    "# please add your code here\n",
    "x = np.linspace(-x_span/2, x_span/2, Nx)\n",
    "\n",
    "eps_rel = np.ones(Nx)\n",
    "for i in range(Nx):\n",
    "    if x[i] > x_interface:\n",
    "        eps_rel[i] = n2**2\n",
    "    else:\n",
    "        eps_rel[i] = n1**2\n",
    "\n",
    "for i, xi in enumerate(x):\n",
    "    if abs(xi - source_position) < dx/2:\n",
    "        source_position = i\n",
    "\n",
    "Ez, Hy, x, t = fdtd_1d(eps_rel, dx, time_span, source_frequency, source_position, source_pulse_length)\n"
   ]
  },
  {
   "cell_type": "markdown",
   "metadata": {},
   "source": [
    "### 3.2. <a id='toc3_2_'></a>[Task 2 - 3D FDTD](#toc0_)"
   ]
  },
  {
   "cell_type": "markdown",
   "metadata": {},
   "source": [
    "- Basic parameters - 3D"
   ]
  },
  {
   "cell_type": "code",
   "execution_count": null,
   "metadata": {},
   "outputs": [],
   "source": [
    "# constants\n",
    "c = 2.99792458e8 # speed of light [m/s]\n",
    "mu0 = 4*np.pi*1e-7 # vacuum permeability [Vs/(Am)]\n",
    "eps0 = 1/(mu0*c**2) # vacuum permittivity [As/(Vm)]\n",
    "Z0 = np.sqrt(mu0/eps0) # vacuum impedance [Ohm]\n",
    "\n",
    "# source parameters\n",
    "freq = 500e12 # pulse [Hz]\n",
    "tau = 1e-15 # pulse width [s]\n",
    "source_width = 2 # width of Gaussian current dist. [grid points]"
   ]
  },
  {
   "cell_type": "markdown",
   "metadata": {},
   "source": [
    "#### 3.2.1. <a id='toc3_2_1_'></a>[Implementation](#toc0_)"
   ]
  },
  {
   "cell_type": "code",
   "execution_count": null,
   "metadata": {},
   "outputs": [],
   "source": [
    "def fdtd_3d(eps_rel, dr, time_span, freq, tau, jx, jy, jz,\n",
    "            field_component, z_ind, output_step):\n",
    "    '''Computes the temporal evolution of a pulsed spatially extended current source using the 3D FDTD method. Returns z-slices of the selected field at the given z-position every output_step time steps. The pulse is centered at a simulation time of 3*tau. All quantities have to be specified in SI units.\n",
    "\n",
    "    Arguments\n",
    "    ---------\n",
    "        eps_rel: 3d-array\n",
    "            Rel. permittivity distribution within the computational domain.\n",
    "        dr: float\n",
    "            Grid spacing (please ensure dr<=lambda/20).\n",
    "        time_span: float\n",
    "            Time span of simulation.\n",
    "        freq: float\n",
    "            Center frequency of the current source.\n",
    "        tau: float\n",
    "            Temporal width of Gaussian envelope of the source.\n",
    "        jx, jy, jz: 3d-array\n",
    "            Spatial density profile of the current source.\n",
    "        field_component : str\n",
    "            Field component which is stored (one of 'ex','ey','ez','hx','hy','hz').\n",
    "        z_index: int\n",
    "            Z-position of the field output.\n",
    "        output_step: int\n",
    "            Number of time steps between field outputs.\n",
    "\n",
    "    Returns\n",
    "    -------\n",
    "        F: 3d-array\n",
    "            Z-slices of the selected field component at the z-position specified by z_ind stored every output_step         time steps (time varies along the first axis).\n",
    "        t: 1d-array\n",
    "            Time of the field output.\n",
    "    '''\n",
    "    \n",
    "    # basic parameters\n",
    "    c = 2.99792458e8 # speed of light [m/s]\n",
    "    mu0 = 4*np.pi*1e-7 # vacuum permeability [Vs/(Am)]\n",
    "    eps0 = 1/(mu0*c**2) # vacuum permittivity [As/(Vm)]\n",
    "\n",
    "    # time step\n",
    "    dt = dr / (2 * c)\n",
    "    Nt = int(round(time_span / dt)) + 1\n",
    "    t = np.linspace(0, time_span, Nt)\n",
    "    \n",
    "    # construction of matrices\n",
    "    ex = np.zeros((eps_rel.shape[0], eps_rel.shape[1], eps_rel.shape[2]))\n",
    "    ey = np.zeros((eps_rel.shape[0], eps_rel.shape[1], eps_rel.shape[2]))\n",
    "    ez = np.zeros((eps_rel.shape[0], eps_rel.shape[1], eps_rel.shape[2]))\n",
    "    hx = np.zeros((eps_rel.shape[0], eps_rel.shape[1], eps_rel.shape[2]))\n",
    "    hy = np.zeros((eps_rel.shape[0], eps_rel.shape[1], eps_rel.shape[2]))\n",
    "    hz = np.zeros((eps_rel.shape[0], eps_rel.shape[1], eps_rel.shape[2]))\n",
    "\n",
    "    F1 = []\n",
    "    F2 = []\n",
    "    Ex = []\n",
    "    Ey = []\n",
    "    Ez = []\n",
    "    Hx = []\n",
    "    Hy = []\n",
    "    Hz = []\n",
    "\n",
    "    # Main loop\n",
    "    for n in range(0, Nt):\n",
    "        # Add perfect electric conductor boundary conditions\n",
    "        ex[:, 0, :] = 0\n",
    "        ex[:, -1, :] = 0\n",
    "        ex[:, :, 0] = 0\n",
    "        ex[:, :, -1] = 0\n",
    "        ey[0, :, :] = 0\n",
    "        ey[-1, :, :] = 0\n",
    "        ey[:, :, 0] = 0\n",
    "        ey[:, :, -1] = 0\n",
    "        ez[0, :, :] = 0\n",
    "        ez[-1, :, :] = 0\n",
    "        ez[:, 0, :] = 0\n",
    "        ez[:, -1, :] = 0\n",
    "        hx[0, :, :] = 0\n",
    "        hx[-1, :, :] = 0\n",
    "        hy[:, 0, :] = 0\n",
    "        hy[:, -1, :] = 0\n",
    "        hz[:, :, 0] = 0\n",
    "        hz[:, :, -1] = 0\n",
    "\n",
    "        \n",
    "        # Update electric fields\n",
    "        ex = ex + dt / (eps0 * eps_rel) * ((hz - np.roll(hz, 1, axis=1)) - (hy - np.roll(hy, 1, axis=2))) / dr - jx * np.cos(2 * np.pi * freq * (n + 0.5) * dt) * np.exp(-(((n + 0.5) * dt - 3 * tau) / tau) ** 2) * dt / (eps0  * eps_rel)\n",
    "\n",
    "        ey = ey + dt / (eps0  * eps_rel) * ((hx - np.roll(hx, 1, axis=2)) - (hz - np.roll(hz, 1, axis=0))) / dr - jy * np.cos(2 * np.pi * freq * (n + 0.5) * dt) * np.exp(-(((n + 0.5) * dt - 3 * tau) / tau) ** 2) * dt / (eps0  * eps_rel)\n",
    "\n",
    "        ez = ez + dt / (eps0) * ((hy - np.roll(hy, 1, axis=0)) - (hx - np.roll(hx, 1, axis=1))) / dr - jz * np.cos(2 * np.pi * freq * (n + 0.5) * dt) * np.exp(-(((n + 0.5) * dt - 3 * tau) / tau) ** 2) * dt / (eps0)\n",
    "\n",
    "        # Update magnetic fields\n",
    "        hx = hx - dt / mu0 * ((ey - np.roll(ey, -1, axis=2)) - (ez - np.roll(ez, -1, axis=1))) / dr\n",
    "\n",
    "        hy = hy - dt / mu0 * ((ez - np.roll(ez, -1, axis=0)) - (ex - np.roll(ex, -1, axis=2))) / dr\n",
    "\n",
    "        hz = hz - dt / mu0 * ((ex - np.roll(ex, -1, axis=1)) - (ey - np.roll(ey, -1, axis=0))) / dr\n",
    "\n",
    "        # Save the field components for a specific z-plane index `z_ind`\n",
    "        # F1.append(hx[:, :, z_ind])\n",
    "        # F2.append(ez[:, :, z_ind])\n",
    "\n",
    "        # Save the field components at a specific time\n",
    "        Ex.append(ex)\n",
    "        Ey.append(ey)\n",
    "        Ez.append(ez)\n",
    "        Hx.append(hx)\n",
    "        Hy.append(hy)\n",
    "        Hz.append(hz)\n",
    "\n",
    "    \n",
    "    # F1 = np.array(F1)\n",
    "    # F2 = np.array(F2)\n",
    "    Ex = np.array(Ex)\n",
    "    Ey = np.array(Ey)\n",
    "    Ez = np.array(Ez)\n",
    "    Hx = np.array(Hx)\n",
    "    Hy = np.array(Hy)\n",
    "    Hz = np.array(Hz)\n",
    "\n",
    "    # Postprocessing - interpolation of output\n",
    "    Ex = 0.5 * (Ex + np.roll(Ex, 1, axis=1))\n",
    "\n",
    "    Ey = 0.5 * (Ey + np.roll(Ey, 1, axis=2))\n",
    "    \n",
    "    Ez = 0.5 * (Ez + np.roll(Ez, 1, axis=3))\n",
    "\n",
    "    Hx = 0.125 * (Hx + np.roll(Hx, 1, axis=2) + Hx + np.roll(Hx, 1, axis=3) + np.roll(np.roll(Hx, 1, axis=2), 1, axis=3) + np.roll((Hx + np.roll(Hx, 1, axis=2) + Hx + np.roll(Hx, 1, axis=3) + np.roll(np.roll(Hx, 1, axis=2), 1, axis=3)), 1, axis=0))\n",
    "        \n",
    "    Hy = 0.125 * (Hy + np.roll(Hy, 1, axis=1) + Hy + np.roll(Hy, 1, axis=3) + np.roll(np.roll(Hy, 1, axis=1), 1, axis=3) + np.roll((Hy + np.roll(Hy, 1, axis=1) + Hy + np.roll(Hy, 1, axis=3) + np.roll(np.roll(Hy, 1, axis=1), 1, axis=3)), 1, axis=0))\n",
    "        \n",
    "    Hz = 0.125 * (Hz + np.roll(Hz, 1, axis=1) + Hz + np.roll(Hz, 1, axis=2) + np.roll(np.roll(Hz, 1, axis=1), 1, axis=2) + np.roll((Hz + np.roll(Hz, 1, axis=1) + Hz + np.roll(Hz, 1, axis=2) + np.roll(np.roll(Hz, 1, axis=1), 1, axis=2)), 1, axis=0))\n",
    "\n",
    "    F1 = np.zeros((len(t), eps_rel.shape[0], eps_rel.shape[1]))\n",
    "    F2 = np.zeros((len(t), eps_rel.shape[0], eps_rel.shape[1]))\n",
    "    if field_component == 'hx' or 'ez':\n",
    "            \n",
    "            for n in range(0, len(t)):\n",
    "                F1[n, :, :] = Hx[n, :, :, z_ind]\n",
    "                F2[n, :, :] = Ez[n, :, :, z_ind]\n",
    "\n",
    "            F1 = F1[::output_step, :, :]\n",
    "            F2 = F2[::output_step, :, :]\n",
    "\n",
    "    t = t[::output_step]\n",
    "\n",
    "    return F1, F2, t"
   ]
  },
  {
   "cell_type": "markdown",
   "metadata": {},
   "source": [
    "#### 3.2.2. <a id='toc3_2_2_'></a>[Convergence test](#toc0_)"
   ]
  },
  {
   "cell_type": "markdown",
   "metadata": {},
   "source": [
    "**1. Convergence test for dx**"
   ]
  },
  {
   "cell_type": "code",
   "execution_count": null,
   "metadata": {},
   "outputs": [],
   "source": []
  },
  {
   "cell_type": "markdown",
   "metadata": {},
   "source": [
    "**2. Convergence test for dt**"
   ]
  },
  {
   "cell_type": "code",
   "execution_count": null,
   "metadata": {},
   "outputs": [],
   "source": []
  },
  {
   "cell_type": "markdown",
   "metadata": {},
   "source": [
    "#### 3.2.3. <a id='toc3_2_3_'></a>[Example](#toc0_)"
   ]
  },
  {
   "cell_type": "code",
   "execution_count": null,
   "metadata": {},
   "outputs": [],
   "source": [
    "# simulation parameters\n",
    "Nx = 199 # number of grid points in x-direction\n",
    "Ny = 201 # number of grid points in y-direction\n",
    "Nz = 5   # number of grid points in z-direction\n",
    "dr = 30e-9 # grid spacing in [m]\n",
    "time_span = 10e-15 # duration of simulation [s]\n",
    "\n",
    "# x coordinates\n",
    "x = np.arange(-int(np.ceil((Nx-1)/2)), int(np.floor((Nx-1)/2)) + 1)*dr\n",
    "# y coordinates\n",
    "y = np.arange(-int(np.ceil((Ny-1)/2)), int(np.floor((Ny-1)/2)) + 1)*dr\n",
    "\n",
    "# grid midpoints\n",
    "midx = int(np.ceil((Nx-1)/2))\n",
    "midy = int(np.ceil((Ny-1)/2))\n",
    "midz = int(np.ceil((Nz-1)/2))\n",
    "\n",
    "# %% create relative permittivity distribution %%%%%%%%%%%%%%%%%%%%%%%%%%%%%%%%\n",
    "\n",
    "# eps_rel = ...\n",
    "\n",
    "eps_rel = np.ones((Nx, Ny, Nz))\n",
    "\n",
    "# %% current distributions %%%%%%%%%%%%%%%%%%%%%%%%%%%%%%%%%%%%%%%%%%%%%%%%%%%%\n",
    "# jx = jy = np.zeros(...) \n",
    "# jz : Gaussion distribution in the xy-plane with a width of 2 grid points, \n",
    "# constant along z\n",
    "\n",
    "# jx = ...\n",
    "# jy = ...\n",
    "# jz = ...\n",
    "\n",
    "jx = np.zeros((Nx, Ny, Nz))\n",
    "jy = np.zeros((Nx, Ny, Nz))\n",
    "jz = np.zeros((Nx, Ny, Nz)) \n",
    "for i, xi in enumerate(x):\n",
    "    for j, yj in enumerate(y):\n",
    "        jz[i, j, :] = np.exp(-((xi)**2 + (yj)**2)/(source_width**2))\n",
    "\n",
    "# output parameters\n",
    "z_ind = midz # z-index of field output\n",
    "output_step = 4 # time steps between field output\n",
    "\n",
    "field_component = 'hx'\n",
    "hx, ez, t = fdtd_3d(eps_rel, dr, time_span, freq, tau, jx, jy, jz, field_component, z_ind, output_step)"
   ]
  },
  {
   "cell_type": "markdown",
   "metadata": {},
   "source": []
  },
  {
   "cell_type": "markdown",
   "metadata": {},
   "source": [
    "## 4. <a id='toc4_'></a>[Conclusion](#toc0_)"
   ]
  },
  {
   "cell_type": "markdown",
   "metadata": {},
   "source": []
  },
  {
   "cell_type": "markdown",
   "metadata": {},
   "source": [
    "## 5. <a id='toc5_'></a>[References](#toc0_)"
   ]
  },
  {
   "cell_type": "markdown",
   "metadata": {},
   "source": [
    "[1]. Thomas Pertsch (2024): Chapter 6 - Finite-Difference Time-Domain (FDTD) Method. \n",
    "   In Thomas Pertsch: Computational Photonics: Abbe School of Photonics, FSU Jena, pp. 75-103."
   ]
  }
 ],
 "metadata": {
  "kernelspec": {
   "display_name": "Python 3",
   "language": "python",
   "name": "python3"
  },
  "language_info": {
   "codemirror_mode": {
    "name": "ipython",
    "version": 3
   },
   "file_extension": ".py",
   "mimetype": "text/x-python",
   "name": "python",
   "nbconvert_exporter": "python",
   "pygments_lexer": "ipython3",
   "version": "3.11.8"
  }
 },
 "nbformat": 4,
 "nbformat_minor": 2
}
