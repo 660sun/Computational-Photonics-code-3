{
 "cells": [
  {
   "cell_type": "markdown",
   "metadata": {},
   "source": [
    "<center>\n",
    "\n",
    "<p style=\"font-size:30px;\"><strong> Computational Photonics </p>\n",
    "\n",
    "<p style=\"font-size:30px;\"><strong> Homework 3: Implementation of the Finite-Difference Time-Domain Method (FDTD) Method </p>\n",
    "\n",
    "</center>\n",
    "\n",
    "<center>\n",
    "\n",
    "**Author:**\n",
    "*Group 5*\n",
    "| Name             | Email       |\n",
    "| -----------      | ----------- |\n",
    "| *Lena Fleischmann*   |  *l.fleischmann@uni-jena.de*           |\n",
    "| *Nayana Jalimarad Shankarappa*|  *@uni-jena.de*   |\n",
    "| *Felix Kreter*|  *felix.kreter@uni-jena.de*   |\n",
    "| *Yucheng Sun*     |  *yucheng.sun@uni-jena.de*        |\n",
    "\n",
    "</center>"
   ]
  },
  {
   "cell_type": "markdown",
   "metadata": {},
   "source": [
    ">**Supervisor:**\n",
    ">\n",
    ">*Prof. Thomas Pertsch* \n",
    ">\n",
    ">**Tutor:**\n",
    ">\n",
    ">*Tobias Bucher*\n",
    ">\n",
    ">*Jan Sperrhake*\n"
   ]
  },
  {
   "cell_type": "code",
   "execution_count": 1,
   "metadata": {},
   "outputs": [],
   "source": [
    "import numpy as np\n",
    "import time\n",
    "from function_headers_fdtd import Fdtd1DAnimation, Fdtd3DAnimation\n",
    "from matplotlib import pyplot as plt\n",
    "\n",
    "# dark bluered colormap, registers automatically with matplotlib on import\n",
    "import bluered_dark\n",
    "\n",
    "\n",
    "plt.rcParams.update({\n",
    "        'figure.figsize': (12/2.54, 9/2.54),\n",
    "        'figure.subplot.bottom': 0.15,\n",
    "        'figure.subplot.left': 0.165,\n",
    "        'figure.subplot.right': 0.90,\n",
    "        'figure.subplot.top': 0.9,\n",
    "        'axes.grid': False,\n",
    "        'image.cmap': 'bluered_dark',\n",
    "})\n",
    "\n",
    "plt.close('all')\n",
    "\n",
    "%config InlineBackend.figure_format = 'svg'\n",
    "%matplotlib inline"
   ]
  },
  {
   "cell_type": "markdown",
   "metadata": {},
   "source": [
    "**Table of contents**<a id='toc0_'></a>    \n",
    "- 1. [Introduction](#toc1_)    \n",
    "- 2. [Finite-Difference Time-Domain (FDTD) Method](#toc2_)    \n",
    "  - 2.1. [Maxwell's equations](#toc2_1_)    \n",
    "  - 2.2. [Yee grids and indices](#toc2_2_)    \n",
    "  - 2.3. [Implementation of sources](#toc2_3_)    \n",
    "  - 2.4. [Perfectly conducting material boundary](#toc2_4_)    \n",
    "- 3. [Analysis and Simulation of the Problems](#toc3_)    \n",
    "  - 3.1. [Task 1 - 1D FDTD](#toc3_1_)    \n",
    "    - 3.1.1. [Implementation](#toc3_1_1_)    \n",
    "    - 3.1.2. [Convergence test](#toc3_1_2_)    \n",
    "    - 3.1.3. [Example](#toc3_1_3_)    \n",
    "  - 3.2. [Task 2 - 3D FDTD](#toc3_2_)    \n",
    "    - 3.2.1. [Implementation](#toc3_2_1_)    \n",
    "    - 3.2.2. [Convergence test](#toc3_2_2_)    \n",
    "    - 3.2.3. [Example](#toc3_2_3_)    \n",
    "- 4. [Conclusion](#toc4_)    \n",
    "- 5. [References](#toc5_)    \n",
    "\n",
    "<!-- vscode-jupyter-toc-config\n",
    "\tnumbering=true\n",
    "\tanchor=true\n",
    "\tflat=false\n",
    "\tminLevel=2\n",
    "\tmaxLevel=6\n",
    "\t/vscode-jupyter-toc-config -->\n",
    "<!-- THIS CELL WILL BE REPLACED ON TOC UPDATE. DO NOT WRITE YOUR TEXT IN THIS CELL -->"
   ]
  },
  {
   "cell_type": "markdown",
   "metadata": {},
   "source": [
    "## 1. <a id='toc1_'></a>[Introduction](#toc0_)"
   ]
  },
  {
   "cell_type": "markdown",
   "metadata": {},
   "source": [
    "In this project, we employ the finite-difference time-domain (FDTD) method to simulate the propagation of an ultrashort pulse in a dispersion-free dielectric medium in both 1D and 3D cases. And we use *Python* to implement this method. In addition, both the physical properties and the numerical properties (i.e. the convergence test of the discretization in geometry discretization and also in time) of the simulation will be discussed. Specifically, the phenomenon when the pulse hits the interface between two different dielectric media will also be investigated."
   ]
  },
  {
   "cell_type": "markdown",
   "metadata": {},
   "source": [
    "## 2. <a id='toc2_'></a>[Finite-Difference Time-Domain (FDTD) Method](#toc0_)"
   ]
  },
  {
   "cell_type": "markdown",
   "metadata": {},
   "source": [
    "### 2.1. <a id='toc2_1_'></a>[Maxwell's equations](#toc0_)"
   ]
  },
  {
   "cell_type": "markdown",
   "metadata": {},
   "source": [
    "\\begin{align}\n",
    "\\frac{\\partial \\textbf{H}(\\textbf{r}, t)}{\\partial t} &= - \\frac{1}{\\mu_0} \\nabla \\times \\textbf{E}(\\textbf{r}, t) \\tag{}\\\\\n",
    "&\\downarrow \\notag \\\\\n",
    "\\frac{\\partial H_x}{\\partial t} &= \\frac{1}{\\mu_0}\\Big[ \\frac{\\partial E_y}{\\partial z} - \\frac{\\partial E_z}{\\partial y} \\Big], \\tag{}\\\\\n",
    "\\frac{\\partial H_y}{\\partial t} &= \\frac{1}{\\mu_0}\\Big[ \\frac{\\partial E_z}{\\partial x} - \\frac{\\partial E_x}{\\partial z} \\Big], \\tag{}\\\\\n",
    "\\frac{\\partial H_z}{\\partial t} &= \\frac{1}{\\mu_0}\\Big[ \\frac{\\partial E_x}{\\partial y} - \\frac{\\partial E_y}{\\partial x} \\Big] \\tag{}\n",
    "\\end{align}\n",
    "\n",
    "\\begin{align}\n",
    "\\frac{\\partial \\textbf{E}(\\textbf{r}, t)}{\\partial t} &= \\frac{1}{\\epsilon_0\\epsilon(\\textbf{r})} \\Big[ \\nabla \\times \\textbf{E}(\\textbf{r}, t) - \\textbf{j}(\\textbf{r}, t) \\Big] \\tag{}\\\\\n",
    "&\\downarrow \\notag \\\\\n",
    "\\frac{\\partial E_x}{\\partial t} &= \\frac{1}{\\epsilon_0\\epsilon(\\textbf{r})}\\Big[ \\frac{\\partial H_z}{\\partial y} - \\frac{\\partial H_y}{\\partial z} - j_x \\Big], \\tag{}\\\\\n",
    "\\frac{\\partial E_y}{\\partial t} &= \\frac{1}{\\epsilon_0\\epsilon(\\textbf{r})}\\Big[ \\frac{\\partial H_x}{\\partial z} - \\frac{\\partial H_z}{\\partial x} - j_y \\Big], \\tag{}\\\\\n",
    "\\frac{\\partial E_z}{\\partial t} &= \\frac{1}{\\epsilon_0\\epsilon(\\textbf{r})}\\Big[ \\frac{\\partial H_y}{\\partial x} - \\frac{\\partial H_x}{\\partial y} -j_z \\Big] \\tag{}\n",
    "\\end{align}"
   ]
  },
  {
   "cell_type": "markdown",
   "metadata": {},
   "source": [
    "### 2.2. <a id='toc2_2_'></a>[Yee grids and indices](#toc0_)"
   ]
  },
  {
   "cell_type": "markdown",
   "metadata": {},
   "source": []
  },
  {
   "cell_type": "markdown",
   "metadata": {},
   "source": [
    "### 2.3. <a id='toc2_3_'></a>[Implementation of sources](#toc0_)"
   ]
  },
  {
   "cell_type": "markdown",
   "metadata": {},
   "source": []
  },
  {
   "cell_type": "markdown",
   "metadata": {},
   "source": [
    "### 2.4. <a id='toc2_4_'></a>[Perfect electric conductor boundary](#toc0_)"
   ]
  },
  {
   "cell_type": "markdown",
   "metadata": {},
   "source": []
  },
  {
   "cell_type": "markdown",
   "metadata": {},
   "source": [
    "## 3. <a id='toc3_'></a>[Analysis and Simulation of the Problems](#toc0_)"
   ]
  },
  {
   "cell_type": "markdown",
   "metadata": {},
   "source": []
  },
  {
   "cell_type": "markdown",
   "metadata": {},
   "source": [
    "### 3.1. <a id='toc3_1_'></a>[Task 1 - 1D FDTD](#toc0_)"
   ]
  },
  {
   "cell_type": "markdown",
   "metadata": {},
   "source": [
    "- Basic parameters - 1D"
   ]
  },
  {
   "cell_type": "code",
   "execution_count": null,
   "metadata": {},
   "outputs": [],
   "source": [
    "# constants\n",
    "c = 2.99792458e8 # speed of light [m/s]\n",
    "mu0 = 4*np.pi*1e-7 # vacuum permeability [Vs/(Am)]\n",
    "eps0 = 1/(mu0*c**2) # vacuum permittivity [As/(Vm)]\n",
    "Z0 = np.sqrt(mu0/eps0) # vacuum impedance [Ohm]\n",
    "\n",
    "# geometry parameters\n",
    "x_span = 18e-6 # width of computatinal domain [m]\n",
    "n1 = 1 # refractive index in front of interface\n",
    "n2 = 2 # refractive index behind interface\n",
    "x_interface = x_span/4 #postion of dielectric interface\n",
    "\n",
    "# source parameters\n",
    "source_frequency = 500e12 # [Hz]\n",
    "source_position = 0 # [m]\n",
    "source_pulse_length = 1e-15 # [s]"
   ]
  },
  {
   "cell_type": "markdown",
   "metadata": {},
   "source": [
    "#### 3.1.1. <a id='toc3_1_1_'></a>[Implementation](#toc0_)"
   ]
  },
  {
   "cell_type": "code",
   "execution_count": null,
   "metadata": {},
   "outputs": [],
   "source": []
  },
  {
   "cell_type": "markdown",
   "metadata": {},
   "source": [
    "#### 3.1.2. <a id='toc3_1_2_'></a>[Convergence test](#toc0_)"
   ]
  },
  {
   "cell_type": "markdown",
   "metadata": {},
   "source": [
    "**1. Convergence test for dx**"
   ]
  },
  {
   "cell_type": "code",
   "execution_count": null,
   "metadata": {},
   "outputs": [],
   "source": []
  },
  {
   "cell_type": "markdown",
   "metadata": {},
   "source": [
    "**2. Convergence test for dt**"
   ]
  },
  {
   "cell_type": "code",
   "execution_count": null,
   "metadata": {},
   "outputs": [],
   "source": []
  },
  {
   "cell_type": "markdown",
   "metadata": {},
   "source": [
    "#### 3.1.3. <a id='toc3_1_3_'></a>[Example](#toc0_)"
   ]
  },
  {
   "cell_type": "code",
   "execution_count": null,
   "metadata": {},
   "outputs": [],
   "source": [
    "# simulation parameters\n",
    "dx = 15e-9 # grid spacing [m]\n",
    "time_span = 60e-15 # duration of simulation [s]\n",
    "\n",
    "Nx = int(round(x_span/dx)) + 1 # number of grid points"
   ]
  },
  {
   "cell_type": "markdown",
   "metadata": {},
   "source": [
    "### 3.2. <a id='toc3_2_'></a>[Task 2 - 3D FDTD](#toc0_)"
   ]
  },
  {
   "cell_type": "markdown",
   "metadata": {},
   "source": [
    "- Basic parameters - 3D"
   ]
  },
  {
   "cell_type": "code",
   "execution_count": null,
   "metadata": {},
   "outputs": [],
   "source": [
    "# constants\n",
    "c = 2.99792458e8 # speed of light [m/s]\n",
    "mu0 = 4*np.pi*1e-7 # vacuum permeability [Vs/(Am)]\n",
    "eps0 = 1/(mu0*c**2) # vacuum permittivity [As/(Vm)]\n",
    "Z0 = np.sqrt(mu0/eps0) # vacuum impedance [Ohm]\n",
    "\n",
    "# source parameters\n",
    "freq = 500e12 # pulse [Hz]\n",
    "tau = 1e-15 # pulse width [s]\n",
    "source_width = 2 # width of Gaussian current dist. [grid points]"
   ]
  },
  {
   "cell_type": "markdown",
   "metadata": {},
   "source": [
    "#### 3.2.1. <a id='toc3_2_1_'></a>[Implementation](#toc0_)"
   ]
  },
  {
   "cell_type": "code",
   "execution_count": null,
   "metadata": {},
   "outputs": [],
   "source": []
  },
  {
   "cell_type": "markdown",
   "metadata": {},
   "source": [
    "#### 3.2.2. <a id='toc3_2_2_'></a>[Convergence test](#toc0_)"
   ]
  },
  {
   "cell_type": "markdown",
   "metadata": {},
   "source": [
    "**1. Convergence test for dx**"
   ]
  },
  {
   "cell_type": "code",
   "execution_count": null,
   "metadata": {},
   "outputs": [],
   "source": []
  },
  {
   "cell_type": "markdown",
   "metadata": {},
   "source": [
    "**2. Convergence test for dt**"
   ]
  },
  {
   "cell_type": "code",
   "execution_count": null,
   "metadata": {},
   "outputs": [],
   "source": []
  },
  {
   "cell_type": "markdown",
   "metadata": {},
   "source": [
    "#### 3.2.3. <a id='toc3_2_3_'></a>[Example](#toc0_)"
   ]
  },
  {
   "cell_type": "code",
   "execution_count": null,
   "metadata": {},
   "outputs": [],
   "source": [
    "# simulation parameters\n",
    "Nx = 199 # number of grid points in x-direction\n",
    "Ny = 201 # number of grid points in y-direction\n",
    "Nz = 5   # number of grid points in z-direction\n",
    "dr = 30e-9 # grid spacing in [m]\n",
    "time_span = 10e-15 # duration of simulation [s]\n",
    "\n",
    "# x coordinates\n",
    "x = np.arange(-int(np.ceil((Nx-1)/2)), int(np.floor((Nx-1)/2)) + 1)*dr\n",
    "# y coordinates\n",
    "y = np.arange(-int(np.ceil((Ny-1)/2)), int(np.floor((Ny-1)/2)) + 1)*dr\n",
    "\n",
    "# grid midpoints\n",
    "midx = int(np.ceil((Nx-1)/2))\n",
    "midy = int(np.ceil((Ny-1)/2))\n",
    "midz = int(np.ceil((Nz-1)/2))"
   ]
  },
  {
   "cell_type": "markdown",
   "metadata": {},
   "source": [
    "## 4. <a id='toc4_'></a>[Conclusion](#toc0_)"
   ]
  },
  {
   "cell_type": "markdown",
   "metadata": {},
   "source": []
  },
  {
   "cell_type": "markdown",
   "metadata": {},
   "source": [
    "## 5. <a id='toc5_'></a>[References](#toc0_)"
   ]
  },
  {
   "cell_type": "markdown",
   "metadata": {},
   "source": [
    "[1]. Thomas Pertsch (2024): Chapter 6 - Finite-Difference Time-Domain (FDTD) Method. \n",
    "   In Thomas Pertsch: Computational Photonics: Abbe School of Photonics, FSU Jena, pp. 75-103."
   ]
  }
 ],
 "metadata": {
  "kernelspec": {
   "display_name": "Python 3",
   "language": "python",
   "name": "python3"
  },
  "language_info": {
   "codemirror_mode": {
    "name": "ipython",
    "version": 3
   },
   "file_extension": ".py",
   "mimetype": "text/x-python",
   "name": "python",
   "nbconvert_exporter": "python",
   "pygments_lexer": "ipython3",
   "version": "3.11.8"
  }
 },
 "nbformat": 4,
 "nbformat_minor": 2
}
